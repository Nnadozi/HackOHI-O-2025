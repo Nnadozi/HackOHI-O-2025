{
 "cells": [
  {
   "cell_type": "code",
   "execution_count": 2,
   "id": "a0739cbd",
   "metadata": {},
   "outputs": [
    {
     "data": {
      "application/vnd.microsoft.datawrangler.viewer.v0+json": {
       "columns": [
        {
         "name": "index",
         "rawType": "int64",
         "type": "integer"
        },
        {
         "name": "Name",
         "rawType": "object",
         "type": "string"
        }
       ],
       "ref": "71aa72e1-1d8e-40bf-95c0-c6b813e2766d",
       "rows": [
        [
         "0",
         "Absolute zero"
        ],
        [
         "1",
         "Acid green"
        ],
        [
         "2",
         "Aero"
        ],
        [
         "3",
         "Aero blue"
        ],
        [
         "4",
         "African violet"
        ],
        [
         "5",
         "Air Force blue (RAF)"
        ],
        [
         "6",
         "Air Force blue (USAF)"
        ],
        [
         "7",
         "Air superiority blue"
        ],
        [
         "8",
         "Alabama crimson"
        ],
        [
         "9",
         "Alabaster"
        ],
        [
         "10",
         "Alice blue"
        ],
        [
         "11",
         "Alien Armpit"
        ],
        [
         "12",
         "Alizarin crimson"
        ],
        [
         "13",
         "Alloy orange"
        ],
        [
         "14",
         "Almond"
        ],
        [
         "15",
         "Amaranth"
        ],
        [
         "16",
         "Amaranth deep purple"
        ],
        [
         "17",
         "Amaranth pink"
        ],
        [
         "18",
         "Amaranth purple"
        ],
        [
         "19",
         "Amaranth red"
        ],
        [
         "20",
         "Amazon"
        ],
        [
         "21",
         "Amazonite"
        ],
        [
         "22",
         "Amber"
        ],
        [
         "23",
         "Amber (SAE/ECE)"
        ],
        [
         "24",
         "American rose"
        ],
        [
         "25",
         "Amethyst"
        ],
        [
         "26",
         "Android green"
        ],
        [
         "27",
         "Anti-flash white"
        ],
        [
         "28",
         "Antique brass"
        ],
        [
         "29",
         "Antique bronze"
        ],
        [
         "30",
         "Antique fuchsia"
        ],
        [
         "31",
         "Antique ruby"
        ],
        [
         "32",
         "Antique white"
        ],
        [
         "33",
         "Ao (English)"
        ],
        [
         "34",
         "Apple green"
        ],
        [
         "35",
         "Apricot"
        ],
        [
         "36",
         "Aqua"
        ],
        [
         "37",
         "Aquamarine"
        ],
        [
         "38",
         "Arctic lime"
        ],
        [
         "39",
         "Army green"
        ],
        [
         "40",
         "Arsenic"
        ],
        [
         "41",
         "Artichoke"
        ],
        [
         "42",
         "Arylide yellow"
        ],
        [
         "43",
         "Ash grey"
        ],
        [
         "44",
         "Asparagus"
        ],
        [
         "45",
         "Atomic tangerine"
        ],
        [
         "46",
         "Auburn"
        ],
        [
         "47",
         "Aureolin"
        ],
        [
         "48",
         "AuroMetalSaurus"
        ],
        [
         "49",
         "Avocado"
        ]
       ],
       "shape": {
        "columns": 1,
        "rows": 1298
       }
      },
      "text/plain": [
       "0           Absolute zero\n",
       "1              Acid green\n",
       "2                    Aero\n",
       "3               Aero blue\n",
       "4          African violet\n",
       "              ...        \n",
       "1293          Yellow rose\n",
       "1294      Yellow Sunshine\n",
       "1295               Zaffre\n",
       "1296    Zinnwaldite brown\n",
       "1297                 Zomp\n",
       "Name: Name, Length: 1298, dtype: object"
      ]
     },
     "execution_count": 2,
     "metadata": {},
     "output_type": "execute_result"
    }
   ],
   "source": [
    "import pandas as pd\n",
    "import matplotlib.pyplot as plt\n",
    "import seaborn as sns\n",
    "# import numpy as np\n",
    "\n",
    "\n",
    "df = pd.read_csv(\"color_names.csv\").dropna()\n",
    "\n",
    "# df[\"Hex (24 bit)\"] = int(df[\"Hex (24 bit)\"][1:], 16)\n",
    "\n",
    "\n",
    "df[\"Hex (24 bit)\"] = df[\"Hex (24 bit)\"].str[1:]\n",
    "\n",
    "df[\"Hex (24 bit)\"] = df[\"Hex (24 bit)\"].apply(lambda x : int(x, 16))\n",
    "\n",
    "X = df.iloc[:,[1]]\n",
    "y = df.iloc[:,0]\n",
    "\n",
    "X\n",
    "y"
   ]
  },
  {
   "cell_type": "code",
   "execution_count": null,
   "id": "428cee09",
   "metadata": {},
   "outputs": [],
   "source": [
    "from sklearn.tree import DecisionTreeClassifier\n",
    "from sklearn.model_selection import train_test_split, cross_val_score, GridSearchCV\n",
    "\n",
    "X_train, X_test, y_train, y_test = train_test_split(X,y, test_size=.2, random_state=20251025)\n",
    "\n",
    "param = {\n",
    "    \"max_depth\": range(1,20)\n",
    "}\n",
    "\n",
    "model = DecisionTreeClassifier()\n",
    "\n",
    "gs_tree = GridSearchCV(model,\n",
    "                       param_grid=param,\n",
    "                       scoring=\"accuracy\",\n",
    "                       cv=2)\n",
    "\n",
    "gs_tree.fit(X,y)\n",
    "\n",
    "# display(gs_tree.best_params_)\n",
    "\n",
    "# display(gs_tree.score(X_train, y_train))\n",
    "# display(gs_tree.score(X_test, y_test))\n",
    "\n",
    "model.fit(X,y)\n",
    "\n",
    "display(model.score(X_test, y_test))\n",
    "\n",
    "model.predict([[(int(\"F3F2FF\", 16))]])\n",
    "\n",
    "display(model.get_depth())"
   ]
  }
 ],
 "metadata": {
  "kernelspec": {
   "display_name": "base",
   "language": "python",
   "name": "python3"
  },
  "language_info": {
   "codemirror_mode": {
    "name": "ipython",
    "version": 3
   },
   "file_extension": ".py",
   "mimetype": "text/x-python",
   "name": "python",
   "nbconvert_exporter": "python",
   "pygments_lexer": "ipython3",
   "version": "3.12.7"
  }
 },
 "nbformat": 4,
 "nbformat_minor": 5
}
