{
 "cells": [
  {
   "cell_type": "code",
   "execution_count": null,
   "id": "a0739cbd",
   "metadata": {},
   "outputs": [],
   "source": [
    "import pandas as pd\n",
    "import matplotlib.pyplot as plt\n",
    "import seaborn as sns\n",
    "import numpy as np\n",
    "\n",
    "\n",
    "df = pd.read_csv(\"color_names.csv\").dropna()\n",
    "\n",
    "# df[\"Hex (24 bit)\"] = int(df[\"Hex (24 bit)\"][1:], 16)\n",
    "\n",
    "\n",
    "df[\"Hex (24 bit)\"] = df[\"Hex (24 bit)\"].str[1:]\n",
    "\n",
    "df[\"Hex (24 bit)\"] = df[\"Hex (24 bit)\"].apply(lambda x : int(x, 16))\n",
    "\n",
    "X = df.iloc[:,[1]]\n",
    "y = df.iloc[:,0]\n",
    "\n",
    "X\n",
    "y"
   ]
  },
  {
   "cell_type": "code",
   "execution_count": null,
   "id": "428cee09",
   "metadata": {},
   "outputs": [],
   "source": []
  }
 ],
 "metadata": {
  "language_info": {
   "name": "python"
  }
 },
 "nbformat": 4,
 "nbformat_minor": 5
}
