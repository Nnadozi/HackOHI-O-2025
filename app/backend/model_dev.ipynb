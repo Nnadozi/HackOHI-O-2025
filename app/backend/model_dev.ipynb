{
 "cells": [
  {
   "cell_type": "code",
   "execution_count": null,
   "id": "a0739cbd",
   "metadata": {},
   "outputs": [],
   "source": [
    "import pandas as pd\n",
    "import matplotlib.pyplot as plt\n",
    "import seaborn as sns\n",
    "import numpy as np\n",
    "\n",
    "\n",
    "df = pd.read_csv(\"color_names.csv\").dropna()\n",
    "\n",
    "# df[\"Hex (24 bit)\"] = int(df[\"Hex (24 bit)\"][1:], 16)\n",
    "\n",
    "\n",
    "df[\"Hex (24 bit)\"] = df[\"Hex (24 bit)\"].str[1:]\n",
    "\n",
    "df[\"Hex (24 bit)\"] = df[\"Hex (24 bit)\"].apply(lambda x : int(x, 16))\n",
    "\n",
    "X = df.iloc[:,[1]]\n",
    "y = df.iloc[:,0]\n",
    "\n",
    "X\n",
    "y"
   ]
  },
  {
   "cell_type": "code",
   "execution_count": null,
   "id": "428cee09",
   "metadata": {},
   "outputs": [],
   "source": [
    "from sklearn.tree import DecisionTreeClassifier\n",
    "from sklearn.model_selection import train_test_split, cross_val_score, GridSearchCV\n",
    "\n",
    "X_train, X_test, y_train, y_test = train_test_split(X,y, test_size=.2, random_state=20251025)\n",
    "\n",
    "param = {\n",
    "    \"max_depth\": range(1,20)\n",
    "}\n",
    "\n",
    "model = DecisionTreeClassifier()\n",
    "\n",
    "gs_tree = GridSearchCV(model,\n",
    "                       param_grid=param,\n",
    "                       scoring=\"accuracy\",\n",
    "                       cv=2)\n",
    "\n",
    "gs_tree.fit(X,y)\n",
    "\n",
    "# display(gs_tree.best_params_)\n",
    "\n",
    "# display(gs_tree.score(X_train, y_train))\n",
    "# display(gs_tree.score(X_test, y_test))\n",
    "\n",
    "model.fit(X,y)\n",
    "\n",
    "display(model.score(X_test, y_test))\n",
    "\n",
    "model.predict([[(int(\"F3F2FF\", 16))]])\n",
    "\n",
    "display(model.get_depth())"
   ]
  }
 ],
 "metadata": {
  "language_info": {
   "name": "python"
  }
 },
 "nbformat": 4,
 "nbformat_minor": 5
}
