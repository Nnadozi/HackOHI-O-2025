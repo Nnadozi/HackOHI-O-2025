{
 "cells": [
  {
   "cell_type": "code",
   "execution_count": null,
   "id": "a0739cbd",
   "metadata": {},
   "outputs": [
    {
     "data": {
      "application/vnd.microsoft.datawrangler.viewer.v0+json": {
       "columns": [
        {
         "name": "index",
         "rawType": "int64",
         "type": "integer"
        },
        {
         "name": "Red (8 bit)",
         "rawType": "int64",
         "type": "integer"
        },
        {
         "name": "Green (8 bit)",
         "rawType": "int64",
         "type": "integer"
        },
        {
         "name": "Blue (8 bit)",
         "rawType": "int64",
         "type": "integer"
        }
       ],
       "ref": "0cf466e0-038c-468d-9f41-aced90b04f6b",
       "rows": [
        [
         "0",
         "0",
         "72",
         "186"
        ],
        [
         "1",
         "176",
         "191",
         "26"
        ],
        [
         "2",
         "124",
         "185",
         "232"
        ],
        [
         "3",
         "201",
         "255",
         "229"
        ],
        [
         "4",
         "178",
         "132",
         "190"
        ],
        [
         "5",
         "93",
         "138",
         "168"
        ],
        [
         "6",
         "0",
         "48",
         "143"
        ],
        [
         "7",
         "114",
         "160",
         "193"
        ],
        [
         "8",
         "175",
         "0",
         "42"
        ],
        [
         "9",
         "242",
         "240",
         "230"
        ],
        [
         "10",
         "240",
         "248",
         "255"
        ],
        [
         "11",
         "132",
         "222",
         "2"
        ],
        [
         "12",
         "227",
         "38",
         "54"
        ],
        [
         "13",
         "196",
         "98",
         "16"
        ],
        [
         "14",
         "239",
         "222",
         "205"
        ],
        [
         "15",
         "229",
         "43",
         "80"
        ],
        [
         "16",
         "159",
         "43",
         "104"
        ],
        [
         "17",
         "241",
         "156",
         "187"
        ],
        [
         "18",
         "171",
         "39",
         "79"
        ],
        [
         "19",
         "211",
         "33",
         "45"
        ],
        [
         "20",
         "59",
         "122",
         "87"
        ],
        [
         "21",
         "0",
         "196",
         "176"
        ],
        [
         "22",
         "255",
         "191",
         "0"
        ],
        [
         "23",
         "255",
         "126",
         "0"
        ],
        [
         "24",
         "255",
         "3",
         "62"
        ],
        [
         "25",
         "153",
         "102",
         "204"
        ],
        [
         "26",
         "164",
         "198",
         "57"
        ],
        [
         "27",
         "242",
         "243",
         "244"
        ],
        [
         "28",
         "205",
         "149",
         "117"
        ],
        [
         "29",
         "102",
         "93",
         "30"
        ],
        [
         "30",
         "145",
         "92",
         "131"
        ],
        [
         "31",
         "132",
         "27",
         "45"
        ],
        [
         "32",
         "250",
         "235",
         "215"
        ],
        [
         "33",
         "0",
         "128",
         "0"
        ],
        [
         "34",
         "141",
         "182",
         "0"
        ],
        [
         "35",
         "251",
         "206",
         "177"
        ],
        [
         "36",
         "0",
         "255",
         "255"
        ],
        [
         "37",
         "127",
         "255",
         "212"
        ],
        [
         "38",
         "208",
         "255",
         "20"
        ],
        [
         "39",
         "75",
         "83",
         "32"
        ],
        [
         "40",
         "59",
         "68",
         "75"
        ],
        [
         "41",
         "143",
         "151",
         "121"
        ],
        [
         "42",
         "233",
         "214",
         "107"
        ],
        [
         "43",
         "178",
         "190",
         "181"
        ],
        [
         "44",
         "135",
         "169",
         "107"
        ],
        [
         "45",
         "255",
         "153",
         "102"
        ],
        [
         "46",
         "165",
         "42",
         "42"
        ],
        [
         "47",
         "253",
         "238",
         "0"
        ],
        [
         "48",
         "110",
         "127",
         "128"
        ],
        [
         "49",
         "86",
         "130",
         "3"
        ]
       ],
       "shape": {
        "columns": 3,
        "rows": 1298
       }
      },
      "text/html": [
       "<div>\n",
       "<style scoped>\n",
       "    .dataframe tbody tr th:only-of-type {\n",
       "        vertical-align: middle;\n",
       "    }\n",
       "\n",
       "    .dataframe tbody tr th {\n",
       "        vertical-align: top;\n",
       "    }\n",
       "\n",
       "    .dataframe thead th {\n",
       "        text-align: right;\n",
       "    }\n",
       "</style>\n",
       "<table border=\"1\" class=\"dataframe\">\n",
       "  <thead>\n",
       "    <tr style=\"text-align: right;\">\n",
       "      <th></th>\n",
       "      <th>Red (8 bit)</th>\n",
       "      <th>Green (8 bit)</th>\n",
       "      <th>Blue (8 bit)</th>\n",
       "    </tr>\n",
       "  </thead>\n",
       "  <tbody>\n",
       "    <tr>\n",
       "      <th>0</th>\n",
       "      <td>0</td>\n",
       "      <td>72</td>\n",
       "      <td>186</td>\n",
       "    </tr>\n",
       "    <tr>\n",
       "      <th>1</th>\n",
       "      <td>176</td>\n",
       "      <td>191</td>\n",
       "      <td>26</td>\n",
       "    </tr>\n",
       "    <tr>\n",
       "      <th>2</th>\n",
       "      <td>124</td>\n",
       "      <td>185</td>\n",
       "      <td>232</td>\n",
       "    </tr>\n",
       "    <tr>\n",
       "      <th>3</th>\n",
       "      <td>201</td>\n",
       "      <td>255</td>\n",
       "      <td>229</td>\n",
       "    </tr>\n",
       "    <tr>\n",
       "      <th>4</th>\n",
       "      <td>178</td>\n",
       "      <td>132</td>\n",
       "      <td>190</td>\n",
       "    </tr>\n",
       "    <tr>\n",
       "      <th>...</th>\n",
       "      <td>...</td>\n",
       "      <td>...</td>\n",
       "      <td>...</td>\n",
       "    </tr>\n",
       "    <tr>\n",
       "      <th>1293</th>\n",
       "      <td>255</td>\n",
       "      <td>240</td>\n",
       "      <td>0</td>\n",
       "    </tr>\n",
       "    <tr>\n",
       "      <th>1294</th>\n",
       "      <td>255</td>\n",
       "      <td>247</td>\n",
       "      <td>0</td>\n",
       "    </tr>\n",
       "    <tr>\n",
       "      <th>1295</th>\n",
       "      <td>0</td>\n",
       "      <td>20</td>\n",
       "      <td>168</td>\n",
       "    </tr>\n",
       "    <tr>\n",
       "      <th>1296</th>\n",
       "      <td>44</td>\n",
       "      <td>22</td>\n",
       "      <td>8</td>\n",
       "    </tr>\n",
       "    <tr>\n",
       "      <th>1297</th>\n",
       "      <td>57</td>\n",
       "      <td>167</td>\n",
       "      <td>142</td>\n",
       "    </tr>\n",
       "  </tbody>\n",
       "</table>\n",
       "<p>1298 rows × 3 columns</p>\n",
       "</div>"
      ],
      "text/plain": [
       "      Red (8 bit)  Green (8 bit)  Blue (8 bit)\n",
       "0               0             72           186\n",
       "1             176            191            26\n",
       "2             124            185           232\n",
       "3             201            255           229\n",
       "4             178            132           190\n",
       "...           ...            ...           ...\n",
       "1293          255            240             0\n",
       "1294          255            247             0\n",
       "1295            0             20           168\n",
       "1296           44             22             8\n",
       "1297           57            167           142\n",
       "\n",
       "[1298 rows x 3 columns]"
      ]
     },
     "execution_count": 33,
     "metadata": {},
     "output_type": "execute_result"
    }
   ],
   "source": [
    "import pandas as pd\n",
    "import matplotlib.pyplot as plt\n",
    "import seaborn as sns\n",
    "# import numpy as np\n",
    "\n",
    "\n",
    "df = pd.read_csv(\"color_names.csv\").dropna()\n",
    "\n",
    "# df[\"Hex (24 bit)\"] = int(df[\"Hex (24 bit)\"][1:], 16)\n",
    "\n",
    "\n",
    "# df[\"Hex (24 bit)\"] = df[\"Hex (24 bit)\"].str[1:]\n",
    "\n",
    "# df[\"Hex (24 bit)\"] = df[\"Hex (24 bit)\"].apply(lambda x : int(x, 16))\n",
    "\n",
    "X = df.iloc[:,2:5]\n",
    "y = df.iloc[:,0]\n",
    "\n",
    "X"
   ]
  },
  {
   "cell_type": "code",
   "execution_count": 38,
   "id": "428cee09",
   "metadata": {},
   "outputs": [
    {
     "name": "stderr",
     "output_type": "stream",
     "text": [
      "c:\\Users\\sptho\\anaconda3\\Lib\\site-packages\\sklearn\\model_selection\\_split.py:776: UserWarning: The least populated class in y has only 1 members, which is less than n_splits=2.\n",
      "  warnings.warn(\n"
     ]
    },
    {
     "data": {
      "text/plain": [
       "0.9"
      ]
     },
     "metadata": {},
     "output_type": "display_data"
    },
    {
     "name": "stderr",
     "output_type": "stream",
     "text": [
      "c:\\Users\\sptho\\anaconda3\\Lib\\site-packages\\sklearn\\base.py:493: UserWarning: X does not have valid feature names, but DecisionTreeClassifier was fitted with feature names\n",
      "  warnings.warn(\n"
     ]
    },
    {
     "data": {
      "text/plain": [
       "array(['Red'], dtype=object)"
      ]
     },
     "metadata": {},
     "output_type": "display_data"
    },
    {
     "data": {
      "text/plain": [
       "304"
      ]
     },
     "metadata": {},
     "output_type": "display_data"
    }
   ],
   "source": [
    "from sklearn.tree import DecisionTreeClassifier\n",
    "from sklearn.model_selection import train_test_split, cross_val_score, GridSearchCV\n",
    "\n",
    "X_train, X_test, y_train, y_test = train_test_split(X,y, test_size=.2, random_state=20251025)\n",
    "\n",
    "param = {\n",
    "    \"max_depth\": range(1,20)\n",
    "}\n",
    "\n",
    "model = DecisionTreeClassifier()\n",
    "\n",
    "gs_tree = GridSearchCV(model,\n",
    "                       param_grid=param,\n",
    "                       scoring=\"accuracy\",\n",
    "                       cv=2)\n",
    "\n",
    "gs_tree.fit(X,y)\n",
    "\n",
    "# display(gs_tree.best_params_)\n",
    "\n",
    "# display(gs_tree.score(X_train, y_train))\n",
    "# display(gs_tree.score(X_test, y_test))\n",
    "\n",
    "model.fit(X,y)\n",
    "\n",
    "display(model.score(X_test, y_test))\n",
    "\n",
    "display(model.predict([[255,0,0]]))\n",
    "\n",
    "display(model.get_depth())"
   ]
  },
  {
   "cell_type": "code",
   "execution_count": 21,
   "id": "f39f1184",
   "metadata": {},
   "outputs": [
    {
     "data": {
      "text/plain": [
       "(188, 216, 7)"
      ]
     },
     "metadata": {},
     "output_type": "display_data"
    }
   ],
   "source": [
    "from PIL import Image\n",
    "\n",
    "img = Image.open(\"colors.jpg\")\n",
    "\n",
    "pix = img.load()\n",
    "\n",
    "h, w = img.size\n",
    "\n",
    "display(pix[25,60])\n"
   ]
  },
  {
   "cell_type": "code",
   "execution_count": 40,
   "id": "1a1c6c33",
   "metadata": {},
   "outputs": [
    {
     "data": {
      "text/plain": [
       "(188, 216, 7)"
      ]
     },
     "metadata": {},
     "output_type": "display_data"
    },
    {
     "name": "stderr",
     "output_type": "stream",
     "text": [
      "c:\\Users\\sptho\\anaconda3\\Lib\\site-packages\\sklearn\\base.py:493: UserWarning: X does not have valid feature names, but DecisionTreeClassifier was fitted with feature names\n",
      "  warnings.warn(\n"
     ]
    },
    {
     "data": {
      "text/plain": [
       "array(['Rufous'], dtype=object)"
      ]
     },
     "execution_count": 40,
     "metadata": {},
     "output_type": "execute_result"
    }
   ],
   "source": [
    "# val = pix[0,0]\n",
    "\n",
    "# val = \"{:02x}{:02x}{:02x}\".format(val[0],val[1],val[2])\n",
    "\n",
    "# display(val)\n",
    "\n",
    "# model.predict([[int(val,16)]])\n",
    "display(pix[25,60])\n",
    "model.predict([pix[25,60]])"
   ]
  },
  {
   "cell_type": "code",
   "execution_count": 44,
   "id": "27eb88ad",
   "metadata": {},
   "outputs": [
    {
     "data": {
      "text/plain": [
       "192.57829888712243"
      ]
     },
     "metadata": {},
     "output_type": "display_data"
    },
    {
     "data": {
      "text/plain": [
       "138.46297541885778"
      ]
     },
     "metadata": {},
     "output_type": "display_data"
    },
    {
     "data": {
      "text/plain": [
       "56.85661000366883"
      ]
     },
     "metadata": {},
     "output_type": "display_data"
    },
    {
     "name": "stderr",
     "output_type": "stream",
     "text": [
      "c:\\Users\\sptho\\anaconda3\\Lib\\site-packages\\sklearn\\base.py:493: UserWarning: X does not have valid feature names, but DecisionTreeClassifier was fitted with feature names\n",
      "  warnings.warn(\n"
     ]
    },
    {
     "data": {
      "text/plain": [
       "array(['Android green'], dtype=object)"
      ]
     },
     "execution_count": 44,
     "metadata": {},
     "output_type": "execute_result"
    }
   ],
   "source": [
    "n = 0\n",
    "avgR = 0\n",
    "avgG = 0\n",
    "avgB = 0\n",
    "for i in range(h):\n",
    "    for j in range(w):\n",
    "        val = pix[i,j]\n",
    "        avgR += val[0]\n",
    "        avgG += val[1]\n",
    "        avgB += val[2]\n",
    "        # avg += int(temp, 16)\n",
    "        n += 1\n",
    "\n",
    "avgR /= n\n",
    "avgG /= n\n",
    "avgB /= n\n",
    "\n",
    "display(avgR, avgG, avgB)\n",
    "\n",
    "model.predict([[avgR, avgG, avgB]])"
   ]
  },
  {
   "cell_type": "code",
   "execution_count": null,
   "id": "a94903bd",
   "metadata": {},
   "outputs": [],
   "source": []
  }
 ],
 "metadata": {
  "kernelspec": {
   "display_name": "base",
   "language": "python",
   "name": "python3"
  },
  "language_info": {
   "codemirror_mode": {
    "name": "ipython",
    "version": 3
   },
   "file_extension": ".py",
   "mimetype": "text/x-python",
   "name": "python",
   "nbconvert_exporter": "python",
   "pygments_lexer": "ipython3",
   "version": "3.12.7"
  }
 },
 "nbformat": 4,
 "nbformat_minor": 5
}
