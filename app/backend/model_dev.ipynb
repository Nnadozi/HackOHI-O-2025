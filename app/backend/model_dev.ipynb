{
 "cells": [
  {
   "cell_type": "code",
   "execution_count": null,
   "id": "a0739cbd",
   "metadata": {},
   "outputs": [
    {
     "data": {
      "application/vnd.microsoft.datawrangler.viewer.v0+json": {
       "columns": [
        {
         "name": "index",
         "rawType": "int64",
         "type": "integer"
        },
        {
         "name": "label",
         "rawType": "object",
         "type": "string"
        }
       ],
       "ref": "17cc1c96-8a29-4188-9e67-3fd50c5ce22f",
       "rows": [
        [
         "0",
         "Blue"
        ],
        [
         "1",
         "Brown"
        ],
        [
         "2",
         "Green"
        ],
        [
         "3",
         "Pink"
        ],
        [
         "4",
         "Green"
        ],
        [
         "5",
         "Pink"
        ],
        [
         "6",
         "Pink"
        ],
        [
         "7",
         "Yellow"
        ],
        [
         "8",
         "Green"
        ],
        [
         "9",
         "Blue"
        ],
        [
         "10",
         "Green"
        ],
        [
         "11",
         "Pink"
        ],
        [
         "12",
         "Blue"
        ],
        [
         "13",
         "Brown"
        ],
        [
         "14",
         "Blue"
        ],
        [
         "15",
         "Green"
        ],
        [
         "16",
         "Orange"
        ],
        [
         "17",
         "Pink"
        ],
        [
         "18",
         "Pink"
        ],
        [
         "19",
         "Brown"
        ],
        [
         "20",
         "Pink"
        ],
        [
         "21",
         "Green"
        ],
        [
         "22",
         "Green"
        ],
        [
         "23",
         "Purple"
        ],
        [
         "24",
         "Yellow"
        ],
        [
         "25",
         "Green"
        ],
        [
         "26",
         "Blue"
        ],
        [
         "27",
         "Blue"
        ],
        [
         "28",
         "Green"
        ],
        [
         "29",
         "Red"
        ],
        [
         "30",
         "Blue"
        ],
        [
         "31",
         "Blue"
        ],
        [
         "32",
         "Brown"
        ],
        [
         "33",
         "Pink"
        ],
        [
         "34",
         "Green"
        ],
        [
         "35",
         "Blue"
        ],
        [
         "36",
         "Green"
        ],
        [
         "37",
         "Green"
        ],
        [
         "38",
         "Purple"
        ],
        [
         "39",
         "Purple"
        ],
        [
         "40",
         "Pink"
        ],
        [
         "41",
         "Green"
        ],
        [
         "42",
         "Blue"
        ],
        [
         "43",
         "Green"
        ],
        [
         "44",
         "Green"
        ],
        [
         "45",
         "Green"
        ],
        [
         "46",
         "Brown"
        ],
        [
         "47",
         "Green"
        ],
        [
         "48",
         "Pink"
        ],
        [
         "49",
         "Green"
        ]
       ],
       "shape": {
        "columns": 1,
        "rows": 5052
       }
      },
      "text/plain": [
       "0        Blue\n",
       "1       Brown\n",
       "2       Green\n",
       "3        Pink\n",
       "4       Green\n",
       "        ...  \n",
       "5047    Black\n",
       "5048    Black\n",
       "5049    Black\n",
       "5050    Black\n",
       "5051    Black\n",
       "Name: label, Length: 5052, dtype: object"
      ]
     },
     "execution_count": 76,
     "metadata": {},
     "output_type": "execute_result"
    }
   ],
   "source": [
    "import pandas as pd\n",
    "import matplotlib.pyplot as plt\n",
    "import seaborn as sns\n",
    "# import numpy as np\n",
    "\n",
    "\n",
    "df = pd.read_csv(\"final_data.csv\").dropna()\n",
    "\n",
    "\n",
    "X=df.iloc[:,:3]\n",
    "y = df.iloc[:,3]"
   ]
  },
  {
   "cell_type": "code",
   "execution_count": 78,
   "id": "428cee09",
   "metadata": {},
   "outputs": [
    {
     "data": {
      "text/plain": [
       "{'max_depth': 8}"
      ]
     },
     "metadata": {},
     "output_type": "display_data"
    },
    {
     "data": {
      "text/plain": [
       "0.9123979213066072"
      ]
     },
     "metadata": {},
     "output_type": "display_data"
    },
    {
     "data": {
      "text/plain": [
       "0.8328387734915925"
      ]
     },
     "metadata": {},
     "output_type": "display_data"
    },
    {
     "data": {
      "text/plain": [
       "0.8328387734915925"
      ]
     },
     "metadata": {},
     "output_type": "display_data"
    },
    {
     "name": "stderr",
     "output_type": "stream",
     "text": [
      "c:\\Users\\sptho\\anaconda3\\Lib\\site-packages\\sklearn\\base.py:493: UserWarning: X does not have valid feature names, but DecisionTreeClassifier was fitted with feature names\n",
      "  warnings.warn(\n"
     ]
    },
    {
     "data": {
      "text/plain": [
       "array(['Green'], dtype=object)"
      ]
     },
     "metadata": {},
     "output_type": "display_data"
    },
    {
     "data": {
      "text/plain": [
       "8"
      ]
     },
     "metadata": {},
     "output_type": "display_data"
    }
   ],
   "source": [
    "from sklearn.tree import DecisionTreeClassifier\n",
    "from sklearn.model_selection import train_test_split, cross_val_score, GridSearchCV\n",
    "\n",
    "X_train, X_test, y_train, y_test = train_test_split(X,y, test_size=.2, random_state=20251025)\n",
    "\n",
    "param = {\n",
    "    \"max_depth\": range(1,20)\n",
    "}\n",
    "\n",
    "model = DecisionTreeClassifier(random_state=20251025)\n",
    "\n",
    "gs_tree = GridSearchCV(model,\n",
    "                       param_grid=param,\n",
    "                       scoring=\"accuracy\",\n",
    "                       cv=5)\n",
    "\n",
    "gs_tree.fit(X_train,y_train)\n",
    "\n",
    "display(gs_tree.best_params_)\n",
    "\n",
    "display(gs_tree.score(X_train, y_train))\n",
    "display(gs_tree.score(X_test, y_test))\n",
    "\n",
    "model.set_params(max_depth=8)\n",
    "\n",
    "model.fit(X_train,y_train)\n",
    "\n",
    "display(model.score(X_test, y_test))\n",
    "\n",
    "display(model.predict([(188, 216, 7)]))\n",
    "\n",
    "display(model.get_depth())"
   ]
  },
  {
   "cell_type": "code",
   "execution_count": 21,
   "id": "f39f1184",
   "metadata": {},
   "outputs": [
    {
     "data": {
      "text/plain": [
       "(188, 216, 7)"
      ]
     },
     "metadata": {},
     "output_type": "display_data"
    }
   ],
   "source": [
    "from PIL import Image\n",
    "\n",
    "img = Image.open(\"colors.jpg\")\n",
    "\n",
    "pix = img.load()\n",
    "\n",
    "h, w = img.size\n",
    "\n",
    "display(pix[25,60])\n"
   ]
  },
  {
   "cell_type": "code",
   "execution_count": 79,
   "id": "1a1c6c33",
   "metadata": {},
   "outputs": [
    {
     "data": {
      "text/plain": [
       "(188, 216, 7)"
      ]
     },
     "metadata": {},
     "output_type": "display_data"
    },
    {
     "name": "stderr",
     "output_type": "stream",
     "text": [
      "c:\\Users\\sptho\\anaconda3\\Lib\\site-packages\\sklearn\\base.py:493: UserWarning: X does not have valid feature names, but DecisionTreeClassifier was fitted with feature names\n",
      "  warnings.warn(\n"
     ]
    },
    {
     "data": {
      "text/plain": [
       "array(['Green'], dtype=object)"
      ]
     },
     "execution_count": 79,
     "metadata": {},
     "output_type": "execute_result"
    }
   ],
   "source": [
    "# val = pix[0,0]\n",
    "\n",
    "# val = \"{:02x}{:02x}{:02x}\".format(val[0],val[1],val[2])\n",
    "\n",
    "# display(val)\n",
    "\n",
    "# model.predict([[int(val,16)]])\n",
    "display(pix[25,60])\n",
    "model.predict([pix[25,60]])"
   ]
  },
  {
   "cell_type": "code",
   "execution_count": 80,
   "id": "27eb88ad",
   "metadata": {},
   "outputs": [
    {
     "data": {
      "text/plain": [
       "192.57829888712243"
      ]
     },
     "metadata": {},
     "output_type": "display_data"
    },
    {
     "data": {
      "text/plain": [
       "138.46297541885778"
      ]
     },
     "metadata": {},
     "output_type": "display_data"
    },
    {
     "data": {
      "text/plain": [
       "56.85661000366883"
      ]
     },
     "metadata": {},
     "output_type": "display_data"
    },
    {
     "name": "stderr",
     "output_type": "stream",
     "text": [
      "c:\\Users\\sptho\\anaconda3\\Lib\\site-packages\\sklearn\\base.py:493: UserWarning: X does not have valid feature names, but DecisionTreeClassifier was fitted with feature names\n",
      "  warnings.warn(\n"
     ]
    },
    {
     "data": {
      "text/plain": [
       "array(['Brown'], dtype=object)"
      ]
     },
     "execution_count": 80,
     "metadata": {},
     "output_type": "execute_result"
    }
   ],
   "source": [
    "n = 0\n",
    "avgR = 0\n",
    "avgG = 0\n",
    "avgB = 0\n",
    "for i in range(h):\n",
    "    for j in range(w):\n",
    "        val = pix[i,j]\n",
    "        avgR += val[0]\n",
    "        avgG += val[1]\n",
    "        avgB += val[2]\n",
    "        # avg += int(temp, 16)\n",
    "        n += 1\n",
    "\n",
    "avgR /= n\n",
    "avgG /= n\n",
    "avgB /= n\n",
    "\n",
    "display(avgR, avgG, avgB)\n",
    "\n",
    "model.predict([[avgR, avgG, avgB]])"
   ]
  },
  {
   "cell_type": "code",
   "execution_count": null,
   "id": "a94903bd",
   "metadata": {},
   "outputs": [],
   "source": []
  }
 ],
 "metadata": {
  "kernelspec": {
   "display_name": "base",
   "language": "python",
   "name": "python3"
  },
  "language_info": {
   "codemirror_mode": {
    "name": "ipython",
    "version": 3
   },
   "file_extension": ".py",
   "mimetype": "text/x-python",
   "name": "python",
   "nbconvert_exporter": "python",
   "pygments_lexer": "ipython3",
   "version": "3.12.7"
  }
 },
 "nbformat": 4,
 "nbformat_minor": 5
}
